{
 "cells": [
  {
   "attachments": {},
   "cell_type": "markdown",
   "metadata": {},
   "source": [
    "# Project Euler"
   ]
  },
  {
   "attachments": {},
   "cell_type": "markdown",
   "metadata": {},
   "source": [
    "## #1: Multiples of 3 and 5"
   ]
  },
  {
   "cell_type": "code",
   "execution_count": null,
   "metadata": {},
   "outputs": [],
   "source": [
    "T = int(input())\n",
    "\n",
    "for t in range(T):\n",
    "    N = int(input()) \n",
    "    \n",
    "    N3 = N - 1\n",
    "    N5 = N - 1 \n",
    "    N15 = N - 1\n",
    "    while N3 % 3 != 0:\n",
    "        N3 -= 1\n",
    "    while N5 % 5 != 0:\n",
    "        N5 -= 1\n",
    "    while N15 % 15 != 0:\n",
    "        N15 -= 1\n",
    "    max_3_n = N3 // 3\n",
    "    max_5_n = N5 // 5\n",
    "    max_15_n = N15 // 15\n",
    "    s3 = 3 * max_3_n * (max_3_n + 1) // 2 \n",
    "    s5 = 5 * max_5_n * (max_5_n + 1) // 2   \n",
    "    s15 = 15 * max_15_n * (max_15_n + 1) // 2   \n",
    "    print(s3 + s5 - s15)"
   ]
  },
  {
   "attachments": {},
   "cell_type": "markdown",
   "metadata": {},
   "source": [
    "## #2: Even Fibonacci numbers"
   ]
  },
  {
   "cell_type": "code",
   "execution_count": null,
   "metadata": {},
   "outputs": [],
   "source": [
    "T = int(input())\n",
    "\n",
    "# Generate even fibonacci numbers (under N = 4e10)\n",
    "even_fib = [2]\n",
    "f1 = 1\n",
    "f2 = 2 \n",
    "n = f2\n",
    "while n < 4e16:\n",
    "    n = f1 + f2\n",
    "    f1 = f2 \n",
    "    f2 = n\n",
    "    if n % 2 == 0:\n",
    "        even_fib.append(n)\n",
    "    \n",
    "for t in range(T):\n",
    "    N = int(input())\n",
    "    \n",
    "    s = sum([n for n in even_fib if n <= N])\n",
    "    print(s)"
   ]
  },
  {
   "attachments": {},
   "cell_type": "markdown",
   "metadata": {},
   "source": [
    "## #4: Largest palindrome product"
   ]
  },
  {
   "cell_type": "code",
   "execution_count": null,
   "metadata": {},
   "outputs": [],
   "source": [
    "def is_palindrome(n):\n",
    "    n_str = str(n)\n",
    "    half_lenght = len(n_str) // 2\n",
    "    if n_str[:half_lenght] == n_str[-half_lenght:][::-1]:\n",
    "        return True\n",
    "    else:\n",
    "        return False\n",
    "\n",
    "d = set([i*j for i in range(100, 1000) for j in range(100, i + 1) if is_palindrome(i*j)])\n",
    "d = sorted(list(d), reverse=True)\n",
    "\n",
    "T = int(input())\n",
    "\n",
    "for t in range(T):\n",
    "    N = int(input())\n",
    "    for palin in d:\n",
    "        if palin < N:\n",
    "            print(palin)\n",
    "            break"
   ]
  },
  {
   "attachments": {},
   "cell_type": "markdown",
   "metadata": {},
   "source": [
    "## #5: Smallest multiple"
   ]
  },
  {
   "cell_type": "code",
   "execution_count": null,
   "metadata": {},
   "outputs": [],
   "source": [
    "def pow_prod(v, u):\n",
    "    r = 1\n",
    "    for i in range(len(v)):\n",
    "        r *= (v[i] ** u[i])\n",
    "    return r\n",
    "\n",
    "def factors(n):\n",
    "    f = 2\n",
    "    divisors = {1: 1}\n",
    "    while n > 1:\n",
    "        if n % f == 0:\n",
    "            n = n // f\n",
    "            if f in divisors:\n",
    "                divisors[f] += 1\n",
    "            else:\n",
    "                divisors[f] = 1\n",
    "            f = 2\n",
    "        else:\n",
    "            f += 1\n",
    "    return divisors\n",
    "    \n",
    "# Factorize all integers up to N = 40\n",
    "fact_N = {n: factors(n) for n in range(1, 41)}\n",
    "\n",
    "T = int(input())\n",
    "for t in range(T):\n",
    "    N = int(input())\n",
    "    global_factors = dict()\n",
    "    \n",
    "    for n in range(1, N+1):\n",
    "        for f, v, in fact_N[n].items():\n",
    "            if f not in global_factors or global_factors[f] < v:\n",
    "                global_factors[f] = v\n",
    "    fac = list(global_factors.keys())\n",
    "    occ = list(global_factors.values())\n",
    "    print(pow_prod(fac, occ))"
   ]
  },
  {
   "attachments": {},
   "cell_type": "markdown",
   "metadata": {},
   "source": [
    "## #6: Sum square difference"
   ]
  },
  {
   "cell_type": "code",
   "execution_count": null,
   "metadata": {},
   "outputs": [],
   "source": [
    "T = int(input())\n",
    "\n",
    "for t in range(T):\n",
    "    N = int(input())\n",
    "    # Both expression (1 + 2 + 3 + ... and 1^2 + 2^2 + 3^2 + ...) \n",
    "    # have closed expression, if written as recursive equations\n",
    "    sum_squared = ((N + 1) * N // 2) ** 2\n",
    "    sum_squares = N * (N + 1) * (2 * N + 1) // 6\n",
    "    print(sum_squared - sum_squares)"
   ]
  },
  {
   "attachments": {},
   "cell_type": "markdown",
   "metadata": {},
   "source": [
    "## #7: 10001st prime"
   ]
  },
  {
   "cell_type": "code",
   "execution_count": null,
   "metadata": {},
   "outputs": [],
   "source": [
    "#!/bin/python3\n",
    "\n",
    "def sieve(N):\n",
    "    primes = []\n",
    "    S = list(range(2, N+1))\n",
    "    while S:\n",
    "        p = S[0]\n",
    "        primes.append(p)\n",
    "        S = [n for n in S if n % p != 0]\n",
    "    return primes\n",
    "        \n",
    "max_N = 104729\n",
    "primes = sieve(max_N)\n",
    "\n",
    "T = int(input().strip())\n",
    "for _ in range(T):\n",
    "    N = int(input())\n",
    "    print(primes[N - 1])"
   ]
  },
  {
   "attachments": {},
   "cell_type": "markdown",
   "metadata": {},
   "source": [
    "## #8: Largest product in a series"
   ]
  },
  {
   "cell_type": "code",
   "execution_count": null,
   "metadata": {},
   "outputs": [],
   "source": [
    "def prod(v):\n",
    "    prod = 1\n",
    "    for e in v:\n",
    "        prod *= int(e)\n",
    "    return prod\n",
    "\n",
    "T = int(input())\n",
    "\n",
    "for _ in range(T):\n",
    "    p = []\n",
    "    N, K = list(map(int, input().split()))\n",
    "    n = input()\n",
    "    \n",
    "    for i in range(0, N - K + 1):\n",
    "        p.append(prod(n[i:i+K]))\n",
    "        \n",
    "    print(max(p))"
   ]
  },
  {
   "attachments": {},
   "cell_type": "markdown",
   "metadata": {},
   "source": [
    "## #11: Largest product in a grid"
   ]
  },
  {
   "cell_type": "code",
   "execution_count": null,
   "metadata": {},
   "outputs": [],
   "source": [
    "def prod(v):\n",
    "    p = 1\n",
    "    for e in v:\n",
    "        p *= e\n",
    "    return p\n",
    "\n",
    "grid = []\n",
    "for grid_i in range(20):\n",
    "    grid_t = [int(grid_temp) for grid_temp in input().strip().split(' ')]\n",
    "    grid.append(grid_t)\n",
    "    \n",
    "values = []\n",
    "for i in range(20 - 3):\n",
    "    for j in range(20 - 3):\n",
    "        block  = [row[j:j+4] for row in grid[i:i+4]]\n",
    "        hprod   = max(list(map(prod, block)))\n",
    "        blockT = [list(v) for v in zip(*block)]\n",
    "        vprod   = max(list(map(prod, blockT)))\n",
    "        d1prod  = block[0][0]*block[1][1]*block[2][2]*block[3][3] \n",
    "        d2prod  = block[0][3]*block[1][2]*block[2][1]*block[3][0]\n",
    "        values.extend([hprod, vprod, d1prod, d2prod])\n",
    "\n",
    "print(max(values))"
   ]
  },
  {
   "attachments": {},
   "cell_type": "markdown",
   "metadata": {},
   "source": [
    "## #13: Large sum"
   ]
  },
  {
   "cell_type": "code",
   "execution_count": null,
   "metadata": {},
   "outputs": [],
   "source": [
    "N = int(input())\n",
    "\n",
    "s = 0\n",
    "for _ in range(N):\n",
    "    n = int(input())\n",
    "    s += n * 1e-30\n",
    "    \n",
    "print(int(str(int(s))[:10]))"
   ]
  },
  {
   "attachments": {},
   "cell_type": "markdown",
   "metadata": {},
   "source": [
    "## #15: Lattice paths"
   ]
  },
  {
   "cell_type": "code",
   "execution_count": null,
   "metadata": {},
   "outputs": [],
   "source": [
    "def binom_coef(n, k):\n",
    "    num = 1\n",
    "    for i in range(n-k+1, n+1):\n",
    "        num *= i\n",
    "        \n",
    "    denom = 1\n",
    "    for i in range(2, k+1):\n",
    "        denom *= i\n",
    "    \n",
    "    return num // denom\n",
    "\n",
    "m = 10**9 + 7\n",
    "T = int(input())\n",
    "\n",
    "for _ in range(T):\n",
    "    N, M = list(map(int, input().split()))\n",
    "    print(int(binom_coef(N+M, M) % m))\n"
   ]
  },
  {
   "attachments": {},
   "cell_type": "markdown",
   "metadata": {},
   "source": [
    "## #16: Power digit sum"
   ]
  },
  {
   "cell_type": "code",
   "execution_count": null,
   "metadata": {},
   "outputs": [],
   "source": [
    "T = int(input())\n",
    "\n",
    "for _ in range(T):\n",
    "    N = int(input())\n",
    "    print(sum([int(d) for d in str(2**N)]))"
   ]
  },
  {
   "attachments": {},
   "cell_type": "markdown",
   "metadata": {},
   "source": [
    "## #18: Maximum path sum I"
   ]
  },
  {
   "cell_type": "code",
   "execution_count": null,
   "metadata": {},
   "outputs": [],
   "source": [
    "T = int(input())\n",
    "\n",
    "for _ in range(T):\n",
    "    N = int(input())\n",
    "    line = int(input())\n",
    "    sums = [line]\n",
    "    for line in range(1, N):\n",
    "        line = list(map(int, input().split()))\n",
    "        line[0] += sums[0]\n",
    "        line[-1] += sums[-1]\n",
    "        for i in range(1, len(line) - 1):\n",
    "            line[i] += max(sums[i-1], sums[i])\n",
    "        sums = line\n",
    "\n",
    "    print(max(sums))"
   ]
  },
  {
   "attachments": {},
   "cell_type": "markdown",
   "metadata": {},
   "source": [
    "## #19: Counting Sundays"
   ]
  },
  {
   "cell_type": "code",
   "execution_count": null,
   "metadata": {},
   "outputs": [],
   "source": [
    "def zeller_congruence(y, m, d):\n",
    "    '''\n",
    "    As defined here\n",
    "    https://en.wikipedia.org/wiki/Zeller%27s_congruence\n",
    "\n",
    "    y = year\n",
    "    m = month\n",
    "    d = day of the month\n",
    "\n",
    "    returns the day of the week (1 = Monday, ..., 7 = Sunday)\n",
    "    '''\n",
    "    M = ((m - 3) % 12) + 3\n",
    "    Y = y + (m - M) // max(1, abs(m - M))\n",
    "    K = Y % 100\n",
    "    J = Y // 100\n",
    "    h = (d + 13*(M + 1) // 5 + K + K // 4 + J // 4 - 2*J) % 7 \n",
    "    return ((h + 5) % 7) + 1\n",
    "\n",
    "T = int(input())\n",
    "\n",
    "for _ in range(T):\n",
    "    y1, m1, d1 = list(map(int, input().split()))\n",
    "    y2, m2, d2 = list(map(int, input().split()))\n",
    "    \n",
    "    counter = 0\n",
    "    if y2 > y1:\n",
    "        # First year\n",
    "        if d1 == 1:\n",
    "            for m in range(m1, 12 + 1):\n",
    "                if zeller_congruence(y1, m, 1) == 7:\n",
    "                    counter += 1\n",
    "        else:\n",
    "            for m in range(m1 + 1, 12 + 1):\n",
    "                if zeller_congruence(y1, m, 1) == 7:\n",
    "                    counter += 1\n",
    "                    \n",
    "        # Last year\n",
    "        for m in range(1, m2 + 1):\n",
    "            if zeller_congruence(y2, m, 1) == 7:\n",
    "                counter += 1\n",
    "        \n",
    "        for y in range(y1+1, y2):\n",
    "            for m in range(1, 12 + 1):\n",
    "                if zeller_congruence(y, m, 1) == 7:\n",
    "                    counter += 1\n",
    "                    \n",
    "    elif y1 == y2:\n",
    "        if d1 == 1:\n",
    "            for m in range(m1, m2 + 1):\n",
    "                if zeller_congruence(y1, m, 1) == 7:\n",
    "                    counter += 1\n",
    "        else:\n",
    "            for m in range(m1 + 1, m2 + 1):\n",
    "                if zeller_congruence(y1, m, 1) == 7:       \n",
    "                    counter += 1\n",
    "    print(counter)"
   ]
  },
  {
   "attachments": {},
   "cell_type": "markdown",
   "metadata": {},
   "source": [
    "## #20: Factorial digit sum"
   ]
  },
  {
   "cell_type": "code",
   "execution_count": null,
   "metadata": {},
   "outputs": [],
   "source": [
    "def factorial(n): \n",
    "    f = 1\n",
    "    if n == 0:\n",
    "        return f\n",
    "    else:\n",
    "        for i in range(2, n+1):\n",
    "            f *= i\n",
    "        return f\n",
    "\n",
    "T = int(input())\n",
    "for _ in range(T):\n",
    "    N = int(input())\n",
    "    print(sum(map(int, str(factorial(N)))))"
   ]
  },
  {
   "attachments": {},
   "cell_type": "markdown",
   "metadata": {},
   "source": [
    "## #22: Names scores"
   ]
  },
  {
   "cell_type": "code",
   "execution_count": null,
   "metadata": {},
   "outputs": [],
   "source": [
    "from string import ascii_uppercase\n",
    "\n",
    "m = dict(zip(ascii_uppercase, range(1, len(ascii_uppercase) + 1)))\n",
    "names_scores = dict()\n",
    "\n",
    "N = int(input())\n",
    "for i in range(N):\n",
    "    name = input()\n",
    "    score = sum([m[letter] for letter in name])\n",
    "    names_scores[name] = score\n",
    " \n",
    "names_scores = {n: s * (i + 1) for i, (n, s) in \n",
    "                enumerate(sorted(names_scores.items(), key=lambda item: item[0]))}\n",
    "\n",
    "Q = int(input())\n",
    "for _ in range(Q):\n",
    "    query_name = input()\n",
    "    print(names_scores[query_name])"
   ]
  },
  {
   "attachments": {},
   "cell_type": "markdown",
   "metadata": {},
   "source": [
    "## #24: Lexicographic permutations"
   ]
  },
  {
   "cell_type": "code",
   "execution_count": null,
   "metadata": {},
   "outputs": [],
   "source": [
    "def fac(n):\n",
    "    if n == 0:\n",
    "        return 1\n",
    "    else: \n",
    "        return n * fac(n - 1)\n",
    "\n",
    "T = int(input())\n",
    " \n",
    "for _ in range(T):\n",
    "    r = ''\n",
    "    s = [\"a\", \"b\", \"c\", \"d\", \"e\", \"f\", \"g\", \"h\", \"i\", \"j\", \"k\", \"l\", \"m\"]\n",
    "    M = len(s)\n",
    "    N = int(input()) - 1\n",
    "    for i in range(1, M+1):\n",
    "        ind = (N // fac(M - i)) % len(s)\n",
    "        r += s[ind]\n",
    "        del s[ind]\n",
    "    print(r)"
   ]
  },
  {
   "attachments": {},
   "cell_type": "markdown",
   "metadata": {},
   "source": [
    "## #26: Reciprocal cycles"
   ]
  },
  {
   "cell_type": "code",
   "execution_count": null,
   "metadata": {},
   "outputs": [],
   "source": [
    "from math import ceil, log10\n",
    "\n",
    "def get_cycle_length(n):\n",
    "    length = 1\n",
    "    k = ceil(log10(n))\n",
    "    rem_pos = dict()      # reminders position\n",
    "    last_rem = 10**k\n",
    "    rem_pos[last_rem] = 0 # first reminder\n",
    "    while True:\n",
    "        new_rem = 10*(last_rem % n)\n",
    "        if new_rem in rem_pos:\n",
    "            return length - rem_pos[new_rem]\n",
    "        elif new_rem == 0:\n",
    "            return 0\n",
    "        else:\n",
    "            rem_pos[new_rem] = length\n",
    "            last_rem = new_rem\n",
    "            length += 1 \n",
    "    \n",
    "cycles_length = dict()\n",
    "            \n",
    "T = int(input())\n",
    "\n",
    "for _ in range(T):\n",
    "    N = int(input())\n",
    "    \n",
    "    max_cycle = 0\n",
    "    max_d = None\n",
    "    for d in range(2, N):\n",
    "        if d in cycles_length:\n",
    "            cycle_length = cycles_length[d]\n",
    "        else:\n",
    "            cycle_length = get_cycle_length(d)\n",
    "            cycles_length[d] = cycle_length\n",
    "        if cycle_length > max_cycle:\n",
    "            max_cycle = cycle_length\n",
    "            max_d = d\n",
    "    print(max_d)"
   ]
  },
  {
   "attachments": {},
   "cell_type": "markdown",
   "metadata": {},
   "source": [
    "## #28: Number spiral diagonals"
   ]
  },
  {
   "cell_type": "code",
   "execution_count": null,
   "metadata": {},
   "outputs": [],
   "source": [
    "T = int(input())\n",
    "\n",
    "for _ in range(T):\n",
    "    N = int(input())\n",
    "    K = (N + 1)//2\n",
    "    print((2*(8*K ** 3 - 9*K ** 2 + 7*K - 6) // 3 + 1) % (10 ** 9 + 7))"
   ]
  },
  {
   "attachments": {},
   "cell_type": "markdown",
   "metadata": {},
   "source": [
    "## #34: Digit factorials"
   ]
  },
  {
   "cell_type": "code",
   "execution_count": null,
   "metadata": {},
   "outputs": [],
   "source": [
    "def factorial(n):\n",
    "    if n == 0:\n",
    "        return 1\n",
    "    else:\n",
    "        f = 1\n",
    "        for i in range(2, n+1):\n",
    "            f *= i\n",
    "    return f\n",
    "\n",
    "N = int(input())\n",
    "\n",
    "result = 0\n",
    "for n in range(10, N):\n",
    "    if sum([factorial(d) for d in list(map(int, list(str(n))))]) % n == 0:\n",
    "        result += n\n",
    "        \n",
    "print(result)"
   ]
  },
  {
   "attachments": {},
   "cell_type": "markdown",
   "metadata": {},
   "source": [
    "## #38: Pandigital multiples"
   ]
  },
  {
   "cell_type": "code",
   "execution_count": null,
   "metadata": {},
   "outputs": [],
   "source": [
    "N, K = list(map(int, input().split()))\n",
    "\n",
    "chain    = [1, 2, 3, 4, 5, 6, 7, 8, 9]\n",
    "pandigit = ['1', '2', '3', '4', '5', '6', '7', '8', '9']\n",
    "\n",
    "for m in range(2, N):\n",
    "    # Create the products with (1, 2, 3, ...)\n",
    "    chain_prod = [str(m * c) for c in chain]\n",
    "    \n",
    "    # Check that the sum of digits up to some index i is actually K\n",
    "    l     = 0\n",
    "    index = 0\n",
    "    while index < len(chain_prod):\n",
    "        l += len(chain_prod[index])\n",
    "        if l == K and sorted(''.join(chain_prod[:index+1])) == pandigit[:K]:\n",
    "            print(m)\n",
    "            break\n",
    "        elif l < K:\n",
    "            index += 1 \n",
    "        elif l > K:\n",
    "            break"
   ]
  },
  {
   "attachments": {},
   "cell_type": "markdown",
   "metadata": {},
   "source": [
    "## #42: Coded triangle numbers"
   ]
  },
  {
   "cell_type": "code",
   "execution_count": null,
   "metadata": {},
   "outputs": [],
   "source": [
    "from math import sqrt\n",
    "\n",
    "T = int(input())\n",
    "\n",
    "for _ in range(T):\n",
    "    t = int(input())\n",
    "    n = (sqrt(1 + 8 * t) - 1) / 2\n",
    "    if n.is_integer():\n",
    "        print(int(n))\n",
    "    else: \n",
    "        print(-1)"
   ]
  },
  {
   "attachments": {},
   "cell_type": "markdown",
   "metadata": {},
   "source": [
    "## #44: Pentagon numbers"
   ]
  },
  {
   "cell_type": "code",
   "execution_count": null,
   "metadata": {},
   "outputs": [],
   "source": [
    "from math import sqrt\n",
    "\n",
    "N, K = list(map(int, input().split()))\n",
    "\n",
    "def pentagonal(N):\n",
    "    return N*(3*N - 1) // 2\n",
    "    \n",
    "def check_minus(N, K):\n",
    "    if n < (36*K**2 + 12*K - 1) / (72*K): \n",
    "        return False\n",
    "    else:\n",
    "    #x1 = 1 - sqrt(1 - 36*K**2 + 72*K*N - 12*K)\n",
    "        x2 = 1 + sqrt(1 - 36*K**2 + 72*K*N - 12*K)\n",
    "        return (x2 > 0 and x2 % 6 == 0)  \n",
    "\n",
    "def check_plus(N, K):\n",
    "    #x1 = 1 - sqrt(36*K**2 - 72*K*N + 12*K + 72*N**2 - 24*N + 1)\n",
    "    x2 = 1 + sqrt(36*K**2 - 72*K*N + 12*K + 72*N**2 - 24*N + 1)\n",
    "    return (x2 > 0 and x2 % 6 == 0)        \n",
    "\n",
    "for n in range(K+1, N):\n",
    "    if check_plus(n, K) or check_minus(n, K):\n",
    "        print(pentagonal(n))"
   ]
  },
  {
   "attachments": {},
   "cell_type": "markdown",
   "metadata": {},
   "source": [
    "## #59: XOR decryption"
   ]
  },
  {
   "cell_type": "code",
   "execution_count": null,
   "metadata": {},
   "outputs": [],
   "source": [
    "from random import choices\n",
    "from string import ascii_letters, ascii_lowercase\n",
    "\n",
    "symbols = ascii_letters + \"0123456789\" + \"();:,.'?-! \"\n",
    "symbols_ord = [ord(c) for c in symbols]\n",
    "\n",
    "cand = [ord(c) for c in ascii_lowercase]\n",
    "\n",
    "N = int(input())\n",
    "msg = list(map(int, input().split()))\n",
    "\n",
    "'''\n",
    "msg = choices(symbols_ord, k=79)\n",
    "key = [\"z\", \"v\", \"q\"]\n",
    "msg = [msg[i] ^ ord(key[i % 3]) for i in range(len(msg))]\n",
    "'''\n",
    "\n",
    "key = [None, None, None]\n",
    "\n",
    "for c in cand:\n",
    "    for i in range(3):\n",
    "        if key[i] is None:\n",
    "            if all([c ^ msg[j] in symbols_ord for j in range(i, len(msg), 3)]):\n",
    "                key[i] = chr(c)\n",
    "\n",
    "\n",
    "print(''.join(key))"
   ]
  },
  {
   "attachments": {},
   "cell_type": "markdown",
   "metadata": {},
   "source": [
    "## #67: Maximum path sum II"
   ]
  },
  {
   "cell_type": "code",
   "execution_count": null,
   "metadata": {},
   "outputs": [],
   "source": [
    "T = int(input())\n",
    "\n",
    "for _ in range(T):\n",
    "    N = int(input())\n",
    "    line = int(input())\n",
    "    sums = [line]\n",
    "    for line in range(1, N):\n",
    "        line = list(map(int, input().split()))\n",
    "        line[0] += sums[0]\n",
    "        line[-1] += sums[-1]\n",
    "        for i in range(1, len(line) - 1):\n",
    "            line[i] += max(sums[i-1], sums[i])\n",
    "        sums = line\n",
    "\n",
    "    print(max(sums))"
   ]
  },
  {
   "attachments": {},
   "cell_type": "markdown",
   "metadata": {},
   "source": [
    "## #99: Largest exponential"
   ]
  },
  {
   "cell_type": "code",
   "execution_count": null,
   "metadata": {},
   "outputs": [],
   "source": [
    "from math import log, inf\n",
    "\n",
    "N = int(input())\n",
    "numbers = dict()\n",
    "for n in range(N):\n",
    "    B, E = list(map(int, input().split()))\n",
    "    numbers[' '.join([str(B), str(E)])] = E * log(B)\n",
    "    \n",
    "K = int(input())\n",
    "numbers = [k for k, _ in sorted(numbers.items(), key=lambda item: item[1])]\n",
    "print(numbers[K - 1])"
   ]
  },
  {
   "attachments": {},
   "cell_type": "markdown",
   "metadata": {},
   "source": [
    "## #107: Minimal network"
   ]
  },
  {
   "cell_type": "code",
   "execution_count": null,
   "metadata": {},
   "outputs": [],
   "source": [
    "from math import inf\n",
    "\n",
    "N, E = list(map(int, input().split()))\n",
    "\n",
    "# Vertex -> [Vertex, Weight]\n",
    "g = {i: [] for i in range(1, N+1)}\n",
    "\n",
    "# Build the graph\n",
    "for _ in range(E):\n",
    "    v1, v2, w = list(map(int, input().split()))\n",
    "    g[v1].append([v2, w])\n",
    "    g[v2].append([v1, w])\n",
    "    \n",
    "# Prim Algorithm\n",
    "vertices_added = {1}\n",
    "mst = {1: []}\n",
    "while vertices_added != set(range(1, N+1)):\n",
    "    min_w  = inf\n",
    "    next_v = None\n",
    "    prev_v = None\n",
    "    for v in vertices_added:\n",
    "        for e in g[v]:\n",
    "            if e[0] not in vertices_added and e[1] < min_w:\n",
    "                prev_v = v\n",
    "                next_v = e[0]\n",
    "                min_w  = e[1]\n",
    "    vertices_added.add(next_v)\n",
    "    mst[next_v] = [[prev_v, min_w]]\n",
    "    mst[prev_v].append([next_v, min_w]) \n",
    "        \n",
    "print(sum([e[1] for es in mst.values() for e in es]) // 2)"
   ]
  }
 ],
 "metadata": {
  "kernelspec": {
   "display_name": "Python 3",
   "language": "python",
   "name": "python3"
  },
  "language_info": {
   "name": "python",
   "version": "3.10.0 (tags/v3.10.0:b494f59, Oct  4 2021, 19:00:18) [MSC v.1929 64 bit (AMD64)]"
  },
  "orig_nbformat": 4,
  "vscode": {
   "interpreter": {
    "hash": "85c576d62e5a69baba7dcae6282c7bf6fba6f8d537c9cbb11ca984aece3c77a0"
   }
  }
 },
 "nbformat": 4,
 "nbformat_minor": 2
}
